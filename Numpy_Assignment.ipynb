{
  "nbformat": 4,
  "nbformat_minor": 0,
  "metadata": {
    "colab": {
      "provenance": [],
      "authorship_tag": "ABX9TyNv2k3TW67eFSPWOdjMBuED",
      "include_colab_link": true
    },
    "kernelspec": {
      "name": "python3",
      "display_name": "Python 3"
    },
    "language_info": {
      "name": "python"
    }
  },
  "cells": [
    {
      "cell_type": "markdown",
      "metadata": {
        "id": "view-in-github",
        "colab_type": "text"
      },
      "source": [
        "<a href=\"https://colab.research.google.com/github/Navyareddy1124/Python_Frameworks/blob/main/Numpy_Assignment.ipynb\" target=\"_parent\"><img src=\"https://colab.research.google.com/assets/colab-badge.svg\" alt=\"Open In Colab\"/></a>"
      ]
    },
    {
      "cell_type": "code",
      "execution_count": null,
      "metadata": {
        "id": "bKLPl9gmXQ4Q"
      },
      "outputs": [],
      "source": [
        "#Import NumPy using an alias\n",
        "import numpy as np"
      ]
    },
    {
      "cell_type": "code",
      "source": [
        "#Check version and configuration\n",
        "print(np.__version__)      # Shows version\n",
        "np.show_config()           # Shows build configuration\n"
      ],
      "metadata": {
        "colab": {
          "base_uri": "https://localhost:8080/"
        },
        "id": "lSyJFWjuXjQg",
        "outputId": "8596f12a-e7e7-413e-8920-56e5770ab144"
      },
      "execution_count": null,
      "outputs": [
        {
          "output_type": "stream",
          "name": "stdout",
          "text": [
            "2.0.2\n",
            "Build Dependencies:\n",
            "  blas:\n",
            "    detection method: pkgconfig\n",
            "    found: true\n",
            "    include directory: /opt/_internal/cpython-3.12.2/lib/python3.12/site-packages/scipy_openblas64/include\n",
            "    lib directory: /opt/_internal/cpython-3.12.2/lib/python3.12/site-packages/scipy_openblas64/lib\n",
            "    name: scipy-openblas\n",
            "    openblas configuration: OpenBLAS 0.3.27  USE64BITINT DYNAMIC_ARCH NO_AFFINITY\n",
            "      Zen MAX_THREADS=64\n",
            "    pc file directory: /project/.openblas\n",
            "    version: 0.3.27\n",
            "  lapack:\n",
            "    detection method: pkgconfig\n",
            "    found: true\n",
            "    include directory: /opt/_internal/cpython-3.12.2/lib/python3.12/site-packages/scipy_openblas64/include\n",
            "    lib directory: /opt/_internal/cpython-3.12.2/lib/python3.12/site-packages/scipy_openblas64/lib\n",
            "    name: scipy-openblas\n",
            "    openblas configuration: OpenBLAS 0.3.27  USE64BITINT DYNAMIC_ARCH NO_AFFINITY\n",
            "      Zen MAX_THREADS=64\n",
            "    pc file directory: /project/.openblas\n",
            "    version: 0.3.27\n",
            "Compilers:\n",
            "  c:\n",
            "    commands: cc\n",
            "    linker: ld.bfd\n",
            "    name: gcc\n",
            "    version: 10.2.1\n",
            "  c++:\n",
            "    commands: c++\n",
            "    linker: ld.bfd\n",
            "    name: gcc\n",
            "    version: 10.2.1\n",
            "  cython:\n",
            "    commands: cython\n",
            "    linker: cython\n",
            "    name: cython\n",
            "    version: 3.0.11\n",
            "Machine Information:\n",
            "  build:\n",
            "    cpu: x86_64\n",
            "    endian: little\n",
            "    family: x86_64\n",
            "    system: linux\n",
            "  host:\n",
            "    cpu: x86_64\n",
            "    endian: little\n",
            "    family: x86_64\n",
            "    system: linux\n",
            "Python Information:\n",
            "  path: /tmp/build-env-8744k94k/bin/python\n",
            "  version: '3.12'\n",
            "SIMD Extensions:\n",
            "  baseline:\n",
            "  - SSE\n",
            "  - SSE2\n",
            "  - SSE3\n",
            "  found:\n",
            "  - SSSE3\n",
            "  - SSE41\n",
            "  - POPCNT\n",
            "  - SSE42\n",
            "  - AVX\n",
            "  - F16C\n",
            "  - FMA3\n",
            "  - AVX2\n",
            "  not found:\n",
            "  - AVX512F\n",
            "  - AVX512CD\n",
            "  - AVX512_KNL\n",
            "  - AVX512_KNM\n",
            "  - AVX512_SKX\n",
            "  - AVX512_CLX\n",
            "  - AVX512_CNL\n",
            "  - AVX512_ICL\n",
            "\n"
          ]
        }
      ]
    },
    {
      "cell_type": "code",
      "source": [
        "#Create a vector filled with zeros of size 10\n",
        "Z=np.zeros(10,dtype=int)\n",
        "print(Z)"
      ],
      "metadata": {
        "colab": {
          "base_uri": "https://localhost:8080/"
        },
        "id": "eSRSfkp4Xm5T",
        "outputId": "fe9e4083-f5b0-4c96-ac37-8ff65c811db3"
      },
      "execution_count": null,
      "outputs": [
        {
          "output_type": "stream",
          "name": "stdout",
          "text": [
            "[0 0 0 0 0 0 0 0 0 0]\n"
          ]
        }
      ]
    },
    {
      "cell_type": "code",
      "source": [
        "#Create a zero vector of size 10 with the fifth element as 1\n",
        "a = np.zeros(10,dtype=int)\n",
        "a[4]=1\n",
        "print(a)"
      ],
      "metadata": {
        "colab": {
          "base_uri": "https://localhost:8080/"
        },
        "id": "4Oq0YVqfX09b",
        "outputId": "1063863e-3649-470d-c7ee-258ca8156eb1"
      },
      "execution_count": null,
      "outputs": [
        {
          "output_type": "stream",
          "name": "stdout",
          "text": [
            "[0 0 0 0 1 0 0 0 0 0]\n"
          ]
        }
      ]
    },
    {
      "cell_type": "code",
      "source": [
        "#Create a vector with values from 10 to 49\n",
        "vec= np.arange(10,50)\n",
        "print(vec)"
      ],
      "metadata": {
        "colab": {
          "base_uri": "https://localhost:8080/"
        },
        "id": "bfA3Z807YHgL",
        "outputId": "3b56d631-bdbc-45fe-db17-c72d7a669f29"
      },
      "execution_count": null,
      "outputs": [
        {
          "output_type": "stream",
          "name": "stdout",
          "text": [
            "[10 11 12 13 14 15 16 17 18 19 20 21 22 23 24 25 26 27 28 29 30 31 32 33\n",
            " 34 35 36 37 38 39 40 41 42 43 44 45 46 47 48 49]\n"
          ]
        }
      ]
    },
    {
      "cell_type": "code",
      "source": [
        "#Reverse a vector\n",
        "rev=vec[::-1]\n",
        "print(rev)"
      ],
      "metadata": {
        "colab": {
          "base_uri": "https://localhost:8080/"
        },
        "id": "Nx6P20R-YXX0",
        "outputId": "881d6c97-9527-434a-ddcc-a4a93d68e243"
      },
      "execution_count": null,
      "outputs": [
        {
          "output_type": "stream",
          "name": "stdout",
          "text": [
            "[49 48 47 46 45 44 43 42 41 40 39 38 37 36 35 34 33 32 31 30 29 28 27 26\n",
            " 25 24 23 22 21 20 19 18 17 16 15 14 13 12 11 10]\n"
          ]
        }
      ]
    },
    {
      "cell_type": "code",
      "source": [
        "#Create a 3x3 matrix with values from 0 to 8\n",
        "mat=np.arange(0,9).reshape(3,3)\n",
        "print(mat)\n",
        "\n"
      ],
      "metadata": {
        "colab": {
          "base_uri": "https://localhost:8080/"
        },
        "id": "YrWo2vyFYeYc",
        "outputId": "b0d9df26-179a-46d2-9834-e8d71cb85017"
      },
      "execution_count": null,
      "outputs": [
        {
          "output_type": "stream",
          "name": "stdout",
          "text": [
            "[[0 1 2]\n",
            " [3 4 5]\n",
            " [6 7 8]]\n"
          ]
        }
      ]
    },
    {
      "cell_type": "code",
      "source": [
        "#Find indices of non-zero elements\n",
        "a = np.array([1, 0, 2, 0, 3, 0,0,4,5,0])\n",
        "indices = np.nonzero(a)\n",
        "print(indices)"
      ],
      "metadata": {
        "colab": {
          "base_uri": "https://localhost:8080/"
        },
        "id": "c_3nsLSbYs9n",
        "outputId": "ad5fde14-b009-4413-969c-cc720c7c3e4d"
      },
      "execution_count": null,
      "outputs": [
        {
          "output_type": "stream",
          "name": "stdout",
          "text": [
            "(array([0, 2, 4, 7, 8]),)\n"
          ]
        }
      ]
    },
    {
      "cell_type": "code",
      "source": [
        "#Create a 3x3 identity matrix\n",
        "iden=np.eye(3)\n",
        "print(iden)"
      ],
      "metadata": {
        "colab": {
          "base_uri": "https://localhost:8080/"
        },
        "id": "jp3jn7poZHiM",
        "outputId": "2172fcd2-27f9-4f80-d3a9-17afc8bdf4c0"
      },
      "execution_count": null,
      "outputs": [
        {
          "output_type": "stream",
          "name": "stdout",
          "text": [
            "[[1. 0. 0.]\n",
            " [0. 1. 0.]\n",
            " [0. 0. 1.]]\n"
          ]
        }
      ]
    },
    {
      "cell_type": "code",
      "source": [
        "#Generate a 3x3x3 array with random values\n",
        "arr = np.random.rand(3, 3, 3)\n",
        "print(arr)"
      ],
      "metadata": {
        "colab": {
          "base_uri": "https://localhost:8080/"
        },
        "id": "RfXVmg-WZzWl",
        "outputId": "53172c7e-f23e-4ad0-9905-b53cbda76ab1"
      },
      "execution_count": null,
      "outputs": [
        {
          "output_type": "stream",
          "name": "stdout",
          "text": [
            "[[[0.46001588 0.27048737 0.46370194]\n",
            "  [0.52836895 0.3029328  0.24138979]\n",
            "  [0.79227991 0.61769578 0.20024558]]\n",
            "\n",
            " [[0.34195907 0.91985022 0.04915962]\n",
            "  [0.69499747 0.962028   0.94396048]\n",
            "  [0.41923776 0.37287416 0.22987295]]\n",
            "\n",
            " [[0.96937643 0.59475366 0.4529393 ]\n",
            "  [0.96228935 0.79543066 0.74949903]\n",
            "  [0.91969023 0.24999204 0.22050378]]]\n"
          ]
        }
      ]
    },
    {
      "cell_type": "code",
      "source": [
        "#Find min and max in a 10x10 random matrix\n",
        "m = np.random.random((10, 10))\n",
        "print(m)\n",
        "\n",
        "m_min, m_max = m.min(), m.max()\n",
        "print(f\"minum and maximum from (10,10) matrix is {m_min}, {m_max}\")"
      ],
      "metadata": {
        "colab": {
          "base_uri": "https://localhost:8080/"
        },
        "id": "Y8urnt2fZ6GO",
        "outputId": "7a2fc1dd-b88a-4307-e937-30a7f428b723"
      },
      "execution_count": null,
      "outputs": [
        {
          "output_type": "stream",
          "name": "stdout",
          "text": [
            "[[0.13833806 0.88477922 0.53134879 0.68013207 0.84222964 0.71088866\n",
            "  0.38694456 0.43719607 0.16472524 0.93220586]\n",
            " [0.28669608 0.73585665 0.22640144 0.76143889 0.94819556 0.22027564\n",
            "  0.22941832 0.90627886 0.96684734 0.40301587]\n",
            " [0.14085162 0.23335496 0.30209395 0.8323999  0.56131367 0.79194054\n",
            "  0.77515446 0.12071854 0.13839997 0.20443502]\n",
            " [0.71281496 0.9051154  0.79320557 0.90647251 0.65428016 0.50985421\n",
            "  0.50123702 0.67739017 0.68131806 0.47672751]\n",
            " [0.98226208 0.39002087 0.86949191 0.47729557 0.32940657 0.59321882\n",
            "  0.80498812 0.20508725 0.51605697 0.37214637]\n",
            " [0.84317447 0.72179372 0.74974483 0.84331682 0.23396532 0.24059689\n",
            "  0.37922249 0.83569655 0.65523099 0.88521798]\n",
            " [0.17595897 0.66781964 0.47111598 0.20367444 0.42605587 0.5926622\n",
            "  0.89123994 0.02719415 0.93275746 0.83523827]\n",
            " [0.24427911 0.26170384 0.87827664 0.70146012 0.67232929 0.48990753\n",
            "  0.05837152 0.60637248 0.4000699  0.53831666]\n",
            " [0.57625869 0.86030094 0.01398359 0.15983682 0.24359966 0.6810317\n",
            "  0.06705858 0.64920444 0.59373902 0.25261071]\n",
            " [0.54721427 0.15490838 0.63306754 0.40504363 0.20083982 0.38440109\n",
            "  0.57033524 0.85839502 0.12318286 0.83329272]]\n",
            "minum and maximum from (10,10) matrix is 0.013983587872491876, 0.9822620788131348\n"
          ]
        }
      ]
    },
    {
      "cell_type": "code",
      "source": [
        "#Calculate mean of a random vector of size 30\n",
        "v = np.random.rand(30)\n",
        "print(v)\n",
        "mean = v.mean()\n",
        "print(f\"mean of vector of size 30 is {mean}\")"
      ],
      "metadata": {
        "colab": {
          "base_uri": "https://localhost:8080/"
        },
        "id": "ZR21si-EaS4E",
        "outputId": "cb51460c-159b-477c-820b-956a827a45fa"
      },
      "execution_count": null,
      "outputs": [
        {
          "output_type": "stream",
          "name": "stdout",
          "text": [
            "[0.86864968 0.92425832 0.35478071 0.67013572 0.68586406 0.11444154\n",
            " 0.40442127 0.91526564 0.86389839 0.75798471 0.97835113 0.60063938\n",
            " 0.51894991 0.822339   0.90123962 0.74985335 0.16588748 0.59738271\n",
            " 0.08109555 0.60760729 0.13480401 0.36519342 0.90525112 0.68994704\n",
            " 0.50084322 0.73245275 0.06102729 0.5381004  0.88159969 0.37198592]\n",
            "mean of vector of size 30 is 0.5921416776336801\n"
          ]
        }
      ]
    },
    {
      "cell_type": "code",
      "source": [
        "#Create a 2D array with 1s on border and 0s inside\n",
        "import numpy as np\n",
        "a = np.ones((5, 5))\n",
        "a[1:-1, 1:-1] = 0\n",
        "print(a)"
      ],
      "metadata": {
        "colab": {
          "base_uri": "https://localhost:8080/"
        },
        "id": "YcIu1yrlbnCP",
        "outputId": "e9653c40-1c81-490b-a355-7d1dcc26ad86"
      },
      "execution_count": null,
      "outputs": [
        {
          "output_type": "stream",
          "name": "stdout",
          "text": [
            "[[1. 1. 1. 1. 1.]\n",
            " [1. 0. 0. 0. 1.]\n",
            " [1. 0. 0. 0. 1.]\n",
            " [1. 0. 0. 0. 1.]\n",
            " [1. 1. 1. 1. 1.]]\n"
          ]
        }
      ]
    },
    {
      "cell_type": "code",
      "source": [
        "#Results of NaN operations\n",
        "\n",
        "import numpy as np\n",
        "print(0 * np.nan)\n",
        "print(np.nan == np.nan)\n",
        "print(np.inf > np.nan)\n",
        "print(np.nan - np.nan)\n",
        "print(np.nan in set([np.nan]))\n"
      ],
      "metadata": {
        "id": "dGacWgVxbUoB",
        "colab": {
          "base_uri": "https://localhost:8080/"
        },
        "outputId": "87147a52-9518-4f5d-8b59-2fc5cbd10c85"
      },
      "execution_count": null,
      "outputs": [
        {
          "output_type": "stream",
          "name": "stdout",
          "text": [
            "nan\n",
            "False\n",
            "False\n",
            "nan\n",
            "True\n"
          ]
        }
      ]
    },
    {
      "cell_type": "code",
      "source": [
        "#Create matrix with values below the diagonal\n",
        "m = np.tril(np.ones((4, 4)))\n",
        "print(m)"
      ],
      "metadata": {
        "colab": {
          "base_uri": "https://localhost:8080/"
        },
        "id": "UcgDt_o9UbYX",
        "outputId": "ec3fc5d0-174a-47ce-df01-7de8bcd43899"
      },
      "execution_count": null,
      "outputs": [
        {
          "output_type": "stream",
          "name": "stdout",
          "text": [
            "[[1. 0. 0. 0.]\n",
            " [1. 1. 0. 0.]\n",
            " [1. 1. 1. 0.]\n",
            " [1. 1. 1. 1.]]\n"
          ]
        }
      ]
    },
    {
      "cell_type": "code",
      "source": [
        "#Create an 8x8 checkerboard pattern\n",
        "a = np.zeros((8, 8))\n",
        "a[1::2, ::2] = 1\n",
        "a[::2, 1::2] = 1\n",
        "print(a)"
      ],
      "metadata": {
        "colab": {
          "base_uri": "https://localhost:8080/"
        },
        "id": "RmdeGdloVh8v",
        "outputId": "8db34070-3f29-446f-fbf9-fb1035993734"
      },
      "execution_count": null,
      "outputs": [
        {
          "output_type": "stream",
          "name": "stdout",
          "text": [
            "[[0. 1. 0. 1. 0. 1. 0. 1.]\n",
            " [1. 0. 1. 0. 1. 0. 1. 0.]\n",
            " [0. 1. 0. 1. 0. 1. 0. 1.]\n",
            " [1. 0. 1. 0. 1. 0. 1. 0.]\n",
            " [0. 1. 0. 1. 0. 1. 0. 1.]\n",
            " [1. 0. 1. 0. 1. 0. 1. 0.]\n",
            " [0. 1. 0. 1. 0. 1. 0. 1.]\n",
            " [1. 0. 1. 0. 1. 0. 1. 0.]]\n"
          ]
        }
      ]
    },
    {
      "cell_type": "code",
      "source": [
        "#Create checkerboard pattern using tile\n",
        "pattern = np.array([[0, 1], [1, 0]])\n",
        "print(pattern)\n",
        "checker = np.tile(pattern, (4, 4))   # used to repeat an array a specified number of times\n",
        "print(checker)"
      ],
      "metadata": {
        "colab": {
          "base_uri": "https://localhost:8080/"
        },
        "id": "sKIU0rzAbPgq",
        "outputId": "fbe19357-b0b5-4454-f8da-9d900ed2881e"
      },
      "execution_count": null,
      "outputs": [
        {
          "output_type": "stream",
          "name": "stdout",
          "text": [
            "[[0 1]\n",
            " [1 0]]\n",
            "[[0 1 0 1 0 1 0 1]\n",
            " [1 0 1 0 1 0 1 0]\n",
            " [0 1 0 1 0 1 0 1]\n",
            " [1 0 1 0 1 0 1 0]\n",
            " [0 1 0 1 0 1 0 1]\n",
            " [1 0 1 0 1 0 1 0]\n",
            " [0 1 0 1 0 1 0 1]\n",
            " [1 0 1 0 1 0 1 0]]\n"
          ]
        }
      ]
    },
    {
      "cell_type": "code",
      "source": [
        "#Matrix multiplication\n",
        "A = np.ones((2, 3),dtype=int)\n",
        "B = np.ones((3, 2),dtype=int)\n",
        "C = np.dot(A, B)\n",
        "print(C)\n"
      ],
      "metadata": {
        "colab": {
          "base_uri": "https://localhost:8080/"
        },
        "id": "HbvvFdOabqQO",
        "outputId": "fabafb02-0b72-45ea-b27c-f4f5b0c4e851"
      },
      "execution_count": null,
      "outputs": [
        {
          "output_type": "stream",
          "name": "stdout",
          "text": [
            "[[3 3]\n",
            " [3 3]]\n"
          ]
        }
      ]
    },
    {
      "cell_type": "code",
      "source": [
        "#Output of sum(range(5), -1) vs np.sum(range(5), -1)\n",
        "print(sum(range(5), -1))\n",
        "print(np.sum(range(5), -1))\n"
      ],
      "metadata": {
        "colab": {
          "base_uri": "https://localhost:8080/"
        },
        "id": "eLEnUeiFgdVz",
        "outputId": "dce574c3-853a-445e-9e25-881b58bea880"
      },
      "execution_count": null,
      "outputs": [
        {
          "output_type": "stream",
          "name": "stdout",
          "text": [
            "9\n",
            "10\n"
          ]
        }
      ]
    },
    {
      "cell_type": "code",
      "source": [
        "#Legal vs Illegal operations\n",
        "#Legal:\n",
        "np.array([1, 2, 3]) + np.array([4, 5, 6])   # the shape matches\n",
        "np.array([1, 2, 3]) * 2"
      ],
      "metadata": {
        "colab": {
          "base_uri": "https://localhost:8080/"
        },
        "id": "IB1Ktvjjh0WV",
        "outputId": "7b8a423c-dccf-44a7-ec87-1ff9a5194873"
      },
      "execution_count": null,
      "outputs": [
        {
          "output_type": "execute_result",
          "data": {
            "text/plain": [
              "array([2, 4, 6])"
            ]
          },
          "metadata": {},
          "execution_count": 27
        }
      ]
    },
    {
      "cell_type": "code",
      "source": [
        "#Illegal\n",
        "np.array([1, 2, 3]) + np.array([1, 2])\n",
        "\n"
      ],
      "metadata": {
        "colab": {
          "base_uri": "https://localhost:8080/",
          "height": 183
        },
        "id": "vbm0R_G8i3I1",
        "outputId": "c640fb5d-27a6-41fe-9f62-20b57b9442ee"
      },
      "execution_count": null,
      "outputs": [
        {
          "output_type": "error",
          "ename": "ValueError",
          "evalue": "operands could not be broadcast together with shapes (3,) (2,) ",
          "traceback": [
            "\u001b[0;31m---------------------------------------------------------------------------\u001b[0m",
            "\u001b[0;31mValueError\u001b[0m                                Traceback (most recent call last)",
            "\u001b[0;32m/tmp/ipython-input-2046166318.py\u001b[0m in \u001b[0;36m<cell line: 0>\u001b[0;34m()\u001b[0m\n\u001b[1;32m      1\u001b[0m \u001b[0;31m#Illegal\u001b[0m\u001b[0;34m\u001b[0m\u001b[0;34m\u001b[0m\u001b[0m\n\u001b[0;32m----> 2\u001b[0;31m \u001b[0mnp\u001b[0m\u001b[0;34m.\u001b[0m\u001b[0marray\u001b[0m\u001b[0;34m(\u001b[0m\u001b[0;34m[\u001b[0m\u001b[0;36m1\u001b[0m\u001b[0;34m,\u001b[0m \u001b[0;36m2\u001b[0m\u001b[0;34m,\u001b[0m \u001b[0;36m3\u001b[0m\u001b[0;34m]\u001b[0m\u001b[0;34m)\u001b[0m \u001b[0;34m+\u001b[0m \u001b[0mnp\u001b[0m\u001b[0;34m.\u001b[0m\u001b[0marray\u001b[0m\u001b[0;34m(\u001b[0m\u001b[0;34m[\u001b[0m\u001b[0;36m1\u001b[0m\u001b[0;34m,\u001b[0m \u001b[0;36m2\u001b[0m\u001b[0;34m]\u001b[0m\u001b[0;34m)\u001b[0m\u001b[0;34m\u001b[0m\u001b[0;34m\u001b[0m\u001b[0m\n\u001b[0m\u001b[1;32m      3\u001b[0m \u001b[0;34m\u001b[0m\u001b[0m\n",
            "\u001b[0;31mValueError\u001b[0m: operands could not be broadcast together with shapes (3,) (2,) "
          ]
        }
      ]
    },
    {
      "cell_type": "code",
      "source": [
        "#Division by zero\n",
        "div_zero=np.array([1, 0]) / np.array([0, 0])\n",
        "print(div_zero)"
      ],
      "metadata": {
        "colab": {
          "base_uri": "https://localhost:8080/"
        },
        "id": "anSgRrLVjBTd",
        "outputId": "a7ab774d-05b6-4936-a047-23cfaeab7665"
      },
      "execution_count": null,
      "outputs": [
        {
          "output_type": "stream",
          "name": "stdout",
          "text": [
            "[inf nan]\n"
          ]
        },
        {
          "output_type": "stream",
          "name": "stderr",
          "text": [
            "/tmp/ipython-input-3818268295.py:2: RuntimeWarning: divide by zero encountered in divide\n",
            "  div_zero=np.array([1, 0]) / np.array([0, 0])\n",
            "/tmp/ipython-input-3818268295.py:2: RuntimeWarning: invalid value encountered in divide\n",
            "  div_zero=np.array([1, 0]) / np.array([0, 0])\n"
          ]
        }
      ]
    },
    {
      "cell_type": "code",
      "source": [
        "#Round a float array away from zero\n",
        "a = np.array([-1.2, 1.2, -2.8, 2.8])\n",
        "rounded = np.copysign(np.ceil(np.abs(a)), a)\n",
        "print(rounded)"
      ],
      "metadata": {
        "colab": {
          "base_uri": "https://localhost:8080/"
        },
        "id": "fChFeGbGm_b8",
        "outputId": "2374671d-313b-41ac-a75f-5c919ec85f0d"
      },
      "execution_count": null,
      "outputs": [
        {
          "output_type": "stream",
          "name": "stdout",
          "text": [
            "[-2.  2. -3.  3.]\n"
          ]
        }
      ]
    },
    {
      "cell_type": "code",
      "source": [
        "#Extract integer part of a float\n",
        "a = np.random.uniform(0, 10, 5)\n",
        "print(a)\n",
        "np.floor(a)\n",
        "np.ceil(a)\n",
        "np.trunc(a)\n",
        "a.astype(int)"
      ],
      "metadata": {
        "colab": {
          "base_uri": "https://localhost:8080/"
        },
        "id": "LGj-3DEJnUk_",
        "outputId": "8ff34f0d-a8f9-413c-f6e5-055594ab9b99"
      },
      "execution_count": null,
      "outputs": [
        {
          "output_type": "stream",
          "name": "stdout",
          "text": [
            "[4.65436728 9.05605491 8.02799912 4.8865544  6.30049915]\n"
          ]
        },
        {
          "output_type": "execute_result",
          "data": {
            "text/plain": [
              "array([4, 9, 8, 4, 6])"
            ]
          },
          "metadata": {},
          "execution_count": 5
        }
      ]
    },
    {
      "cell_type": "code",
      "source": [
        "#Create 5x5 matrix with row values 0–4\n",
        "sqr_matrix=np.tile(np.arange(5),(5,1))\n",
        "print(sqr_matrix)"
      ],
      "metadata": {
        "id": "r51KaLrmn1V8",
        "colab": {
          "base_uri": "https://localhost:8080/"
        },
        "outputId": "4d3eb2fb-a484-406a-e581-ce25a4686d4d"
      },
      "execution_count": null,
      "outputs": [
        {
          "output_type": "stream",
          "name": "stdout",
          "text": [
            "[[0 1 2 3 4]\n",
            " [0 1 2 3 4]\n",
            " [0 1 2 3 4]\n",
            " [0 1 2 3 4]\n",
            " [0 1 2 3 4]]\n"
          ]
        }
      ]
    },
    {
      "cell_type": "code",
      "source": [
        "#Create evenly spaced values between 0 and 1\n",
        "print(np.linspace(0,1,11,endpoint=False))"
      ],
      "metadata": {
        "colab": {
          "base_uri": "https://localhost:8080/"
        },
        "id": "4YczpH6sOT4D",
        "outputId": "c57b2566-da55-499a-ffb9-88ae33f69f14"
      },
      "execution_count": null,
      "outputs": [
        {
          "output_type": "stream",
          "name": "stdout",
          "text": [
            "[0.         0.09090909 0.18181818 0.27272727 0.36363636 0.45454545\n",
            " 0.54545455 0.63636364 0.72727273 0.81818182 0.90909091]\n"
          ]
        }
      ]
    },
    {
      "cell_type": "code",
      "source": [
        "#Sort a random array\n",
        "Arr=np.random.rand(10)\n",
        "print(Arr)\n",
        "sorted_arr= Arr.sort()\n",
        "print(sorted_arr)"
      ],
      "metadata": {
        "colab": {
          "base_uri": "https://localhost:8080/"
        },
        "id": "mbfAabTRO_KC",
        "outputId": "94967f4e-4327-468b-ddf5-86c055b5e31c"
      },
      "execution_count": null,
      "outputs": [
        {
          "output_type": "stream",
          "name": "stdout",
          "text": [
            "[0.89397611 0.86273621 0.59229026 0.98148919 0.88816839 0.75927388\n",
            " 0.7617422  0.69406615 0.51547311 0.79738663]\n",
            "None\n"
          ]
        }
      ]
    },
    {
      "cell_type": "code",
      "source": [
        "#Check if two arrays are equal\n",
        "myarr1=np.array_equal(np.array([1, 2]), np.array([1, 2]))\n",
        "myarr2=np.array_equal(np.array([1, 2]), np.array([3, 5]))\n",
        "print(myarr1)\n",
        "print(myarr2)"
      ],
      "metadata": {
        "colab": {
          "base_uri": "https://localhost:8080/"
        },
        "id": "XQ4e3JaAPrT-",
        "outputId": "6fa12326-0d9a-4652-b638-c3852665cfdb"
      },
      "execution_count": null,
      "outputs": [
        {
          "output_type": "stream",
          "name": "stdout",
          "text": [
            "True\n",
            "False\n"
          ]
        }
      ]
    },
    {
      "cell_type": "markdown",
      "source": [
        "**Intermediate**"
      ],
      "metadata": {
        "id": "rFDaTi00SCDM"
      }
    },
    {
      "cell_type": "code",
      "source": [
        "#Convert Cartesian coordinates to polar coordinates\n",
        "x = np.array([1, 2])\n",
        "y = np.array([2, 2])\n",
        "r = np.sqrt(x**2 + y**2)\n",
        "theta = np.arctan2(y, x)\n",
        "print(theta)"
      ],
      "metadata": {
        "colab": {
          "base_uri": "https://localhost:8080/"
        },
        "id": "-Cisy39ASFqL",
        "outputId": "dda79cbe-5945-45d4-f0f4-e02c2bb6556d"
      },
      "execution_count": null,
      "outputs": [
        {
          "output_type": "stream",
          "name": "stdout",
          "text": [
            "[1.10714872 0.78539816]\n"
          ]
        }
      ]
    },
    {
      "cell_type": "code",
      "source": [
        "#Replace the maximum value in an array with zero\n",
        "A = np.array([1,23,15,7,19])\n",
        "A[A == A.max()] = 0\n",
        "print(A)"
      ],
      "metadata": {
        "colab": {
          "base_uri": "https://localhost:8080/"
        },
        "id": "f3O3sYWvSUwy",
        "outputId": "e140e423-f7ed-4ac0-8541-956d4af28f2e"
      },
      "execution_count": null,
      "outputs": [
        {
          "output_type": "stream",
          "name": "stdout",
          "text": [
            "[ 1  0 15  7 19]\n"
          ]
        }
      ]
    },
    {
      "cell_type": "code",
      "source": [
        "#Create a structured array for (x, y) coordinate pairs\n",
        "coords = np.zeros(5, dtype=[('x', float), ('y', float)])\n",
        "coords['x'] = np.arange(5)\n",
        "coords['y'] = np.arange(5) * 2\n",
        "print(coords)"
      ],
      "metadata": {
        "colab": {
          "base_uri": "https://localhost:8080/"
        },
        "id": "Ewa1OA4bS2nn",
        "outputId": "e1f9b071-7085-448a-9907-3ea5fc991ead"
      },
      "execution_count": null,
      "outputs": [
        {
          "output_type": "stream",
          "name": "stdout",
          "text": [
            "[(0., 0.) (1., 2.) (2., 4.) (3., 6.) (4., 8.)]\n"
          ]
        }
      ]
    },
    {
      "cell_type": "code",
      "source": [
        "#Find the closest value to a given scalar in an array\n",
        "a = np.array([1, 3, 7, 9, 11])\n",
        "target = 8\n",
        "closest = a[np.abs(a - target).argmin()]\n",
        "print(closest)"
      ],
      "metadata": {
        "colab": {
          "base_uri": "https://localhost:8080/"
        },
        "id": "QRj41OmOTjcA",
        "outputId": "80da7752-f15e-4642-b6f4-cc91ce3321a2"
      },
      "execution_count": null,
      "outputs": [
        {
          "output_type": "stream",
          "name": "stdout",
          "text": [
            "7\n"
          ]
        }
      ]
    },
    {
      "cell_type": "code",
      "source": [
        "#Cast a float array to integer type in place\n",
        "a = np.array([1.7, 2.9, 3.1])\n",
        "a[:] = a.astype(int)\n",
        "print(a)"
      ],
      "metadata": {
        "colab": {
          "base_uri": "https://localhost:8080/"
        },
        "id": "XHF35NWUTsUe",
        "outputId": "7a4dc4e7-a663-4960-c2d8-f632cd3a219e"
      },
      "execution_count": null,
      "outputs": [
        {
          "output_type": "stream",
          "name": "stdout",
          "text": [
            "[1. 2. 3.]\n"
          ]
        }
      ]
    },
    {
      "cell_type": "code",
      "source": [
        "#Iterate through all elements in a NumPy array with indices\n",
        "a = np.array([[1, 2], [3, 4]])\n",
        "for index, value in np.ndenumerate(a):\n",
        "    print(index, value)\n",
        "\n"
      ],
      "metadata": {
        "colab": {
          "base_uri": "https://localhost:8080/"
        },
        "id": "w_Tf2dlSEhMS",
        "outputId": "3c468606-1381-437c-a16d-a7ac8d7f2b0b"
      },
      "execution_count": null,
      "outputs": [
        {
          "output_type": "stream",
          "name": "stdout",
          "text": [
            "(0, 0) 1\n",
            "(0, 1) 2\n",
            "(1, 0) 3\n",
            "(1, 1) 4\n"
          ]
        }
      ]
    },
    {
      "cell_type": "code",
      "source": [
        "#Randomly place a specific number of elements in a 2D array\n",
        "a = np.zeros((5, 5))\n",
        "n = 5\n",
        "indices = np.random.choice(a.size, n, replace=False)\n",
        "a.ravel()[indices] = 1\n",
        "print(a)\n"
      ],
      "metadata": {
        "colab": {
          "base_uri": "https://localhost:8080/"
        },
        "id": "Jl7cMwX8Sz7f",
        "outputId": "c39ad4e1-1ad1-4a8c-ab8c-fd7fa7cf2726"
      },
      "execution_count": null,
      "outputs": [
        {
          "output_type": "stream",
          "name": "stdout",
          "text": [
            "[[0. 0. 0. 1. 0.]\n",
            " [0. 0. 0. 0. 0.]\n",
            " [0. 1. 0. 0. 1.]\n",
            " [0. 0. 0. 1. 0.]\n",
            " [0. 0. 0. 0. 1.]]\n"
          ]
        }
      ]
    },
    {
      "cell_type": "code",
      "source": [
        "#Subtract the row mean from a matrix\n",
        "a = np.array([[1, 2], [3, 4]])\n",
        "row_means = np.mean(a, axis=1, keepdims=True)\n",
        "a_subtracted = a - row_means\n",
        "print(a_subtracted)"
      ],
      "metadata": {
        "colab": {
          "base_uri": "https://localhost:8080/"
        },
        "id": "p23HzBbFTFFj",
        "outputId": "2e974c15-1a93-4231-e6b3-c067dda872ec"
      },
      "execution_count": null,
      "outputs": [
        {
          "output_type": "stream",
          "name": "stdout",
          "text": [
            "[[-0.5  0.5]\n",
            " [-0.5  0.5]]\n"
          ]
        }
      ]
    },
    {
      "cell_type": "code",
      "source": [
        "#Sort a 2D array based on the values of one column\n",
        "a = np.array([[3, 7], [1, 9], [2, 5]])\n",
        "a_sorted = a[a[:, 1].argsort()]\n",
        "print(a_sorted)\n"
      ],
      "metadata": {
        "colab": {
          "base_uri": "https://localhost:8080/"
        },
        "id": "DOhqpXe2FK2D",
        "outputId": "1ebd65cb-2d10-45da-e5e6-44320703e35b"
      },
      "execution_count": null,
      "outputs": [
        {
          "output_type": "stream",
          "name": "stdout",
          "text": [
            "[[2 5]\n",
            " [3 7]\n",
            " [1 9]]\n"
          ]
        }
      ]
    },
    {
      "cell_type": "code",
      "source": [
        "#Check if a 2D array contains any null (zero-only) columns\n",
        "a = np.array([[0, 1, 0],\n",
        "              [0, 0, 0],\n",
        "              [0, 2, 0]])\n",
        "null_cols = np.all(a == 0, axis=0)\n",
        "print(null_cols)"
      ],
      "metadata": {
        "colab": {
          "base_uri": "https://localhost:8080/"
        },
        "id": "l8FytZqvFekY",
        "outputId": "70005ee9-781b-41d1-fb11-3197faab89c3"
      },
      "execution_count": null,
      "outputs": [
        {
          "output_type": "stream",
          "name": "stdout",
          "text": [
            "[ True False  True]\n"
          ]
        }
      ]
    },
    {
      "cell_type": "code",
      "source": [
        "#Find the nearest value to a given number in a NumPy array\n",
        "a = np.array([2.5, 8.1, 4.3, 6.7])\n",
        "target = 5\n",
        "nearest = a[np.abs(a - target).argmin()]\n",
        "print(nearest)"
      ],
      "metadata": {
        "colab": {
          "base_uri": "https://localhost:8080/"
        },
        "id": "Bz40QExKUDyi",
        "outputId": "3120378f-6c63-4b1e-817b-9d09568febf5"
      },
      "execution_count": null,
      "outputs": [
        {
          "output_type": "stream",
          "name": "stdout",
          "text": [
            "4.3\n"
          ]
        }
      ]
    },
    {
      "cell_type": "code",
      "source": [
        "#Increment elements in an array using an index array with repeats\n",
        "a = np.zeros(5, int)\n",
        "indices = np.array([1, 1, 2, 3])\n",
        "np.add.at(a, indices, 1)\n",
        "print(a)"
      ],
      "metadata": {
        "colab": {
          "base_uri": "https://localhost:8080/"
        },
        "id": "JI6EBLz8GisH",
        "outputId": "cf364f19-7ffe-47c2-90f7-18bf17ec64e7"
      },
      "execution_count": null,
      "outputs": [
        {
          "output_type": "stream",
          "name": "stdout",
          "text": [
            "[0 2 1 1 0]\n"
          ]
        }
      ]
    },
    {
      "cell_type": "code",
      "source": [
        "#Accumulate values into an array based on indices\n",
        "values = np.array([10, 20, 30])\n",
        "indices = np.array([0, 1, 0])\n",
        "result = np.bincount(indices, weights=values)\n",
        "print(result)"
      ],
      "metadata": {
        "colab": {
          "base_uri": "https://localhost:8080/"
        },
        "id": "vG3JNoYENpuE",
        "outputId": "8a3a9be3-57e7-44a9-84f5-5b7ef81902f9"
      },
      "execution_count": null,
      "outputs": [
        {
          "output_type": "stream",
          "name": "stdout",
          "text": [
            "[40. 20.]\n"
          ]
        }
      ]
    },
    {
      "cell_type": "code",
      "source": [
        "#Count unique colors in a 3D image array\n",
        "image = np.random.randint(0, 256, (4, 4, 3), dtype=np.uint8)\n",
        "colors = np.unique(image.reshape(-1, 3), axis=0)\n",
        "num_colors = len(colors)\n",
        "print(num_colors)"
      ],
      "metadata": {
        "colab": {
          "base_uri": "https://localhost:8080/"
        },
        "id": "YLxsU1IYQ46l",
        "outputId": "5b93de5d-eb28-4fb7-9c01-3e1cf16180f5"
      },
      "execution_count": null,
      "outputs": [
        {
          "output_type": "stream",
          "name": "stdout",
          "text": [
            "16\n"
          ]
        }
      ]
    },
    {
      "cell_type": "code",
      "source": [
        "#Compute the sum across the last two axes of a 4D array\n",
        "a = np.random.rand(2, 3, 4, 5)\n",
        "Results = a.sum(axis=(-2, -1))\n",
        "print(Results)"
      ],
      "metadata": {
        "colab": {
          "base_uri": "https://localhost:8080/"
        },
        "id": "AoNK7M1aUiqC",
        "outputId": "a2bf8787-acd8-4faa-b7ff-a32a69a97f26"
      },
      "execution_count": null,
      "outputs": [
        {
          "output_type": "stream",
          "name": "stdout",
          "text": [
            "[[ 9.71086228  9.88928556 10.98590264]\n",
            " [10.42165197  9.54977765  8.99225211]]\n"
          ]
        }
      ]
    },
    {
      "cell_type": "code",
      "source": [
        "#Calculate means of grouped values in an array\n",
        "values = np.array([1, 2, 3, 4, 5, 6])\n",
        "groups = np.array([1, 1, 2, 2, 3, 3])\n",
        "means = [values[groups == g].mean() for g in np.unique(groups)]\n",
        "print(means)\n"
      ],
      "metadata": {
        "colab": {
          "base_uri": "https://localhost:8080/"
        },
        "id": "IkyDt-hpQpBK",
        "outputId": "537a5a9a-5432-4438-ba22-5cd9560a3968"
      },
      "execution_count": null,
      "outputs": [
        {
          "output_type": "stream",
          "name": "stdout",
          "text": [
            "[np.float64(1.5), np.float64(3.5), np.float64(5.5)]\n"
          ]
        }
      ]
    },
    {
      "cell_type": "code",
      "source": [
        "#Efficiently get the diagonal of a matrix dot product\n",
        "A = np.random.rand(3, 3)\n",
        "B = np.random.rand(3, 3)\n",
        "diag = np.einsum('ij,ji->i', A, B)\n",
        "print(diag)"
      ],
      "metadata": {
        "colab": {
          "base_uri": "https://localhost:8080/"
        },
        "id": "JvbZ4ufRVoS2",
        "outputId": "48407447-0ee1-4085-d451-45bcc3cfc233"
      },
      "execution_count": null,
      "outputs": [
        {
          "output_type": "stream",
          "name": "stdout",
          "text": [
            "[0.97906186 1.16517814 0.80422246]\n"
          ]
        }
      ]
    },
    {
      "cell_type": "code",
      "source": [
        "#Swap two rows in a matrix (in-place)\n",
        "M = np.arange(12).reshape(4,3)\n",
        "i, j = 0, 2\n",
        "M[[i, j]] = M[[j, i]]\n",
        "print(M)\n"
      ],
      "metadata": {
        "colab": {
          "base_uri": "https://localhost:8080/"
        },
        "id": "tc452OWnVy5V",
        "outputId": "e64a3409-d916-4c52-a4d5-a6f9a8d91b18"
      },
      "execution_count": null,
      "outputs": [
        {
          "output_type": "stream",
          "name": "stdout",
          "text": [
            "[[ 6  7  8]\n",
            " [ 3  4  5]\n",
            " [ 0  1  2]\n",
            " [ 9 10 11]]\n"
          ]
        }
      ]
    },
    {
      "cell_type": "code",
      "source": [
        "#Recreate original values from a bincount\n",
        "bc = np.bincount([0,2,2,5,0])\n",
        "arr = np.repeat(np.arange(len(bc)), bc)\n",
        "print(arr)"
      ],
      "metadata": {
        "colab": {
          "base_uri": "https://localhost:8080/"
        },
        "id": "xgT91SM9XmU8",
        "outputId": "8b545e89-d786-4104-b3e3-32169679dde3"
      },
      "execution_count": null,
      "outputs": [
        {
          "output_type": "stream",
          "name": "stdout",
          "text": [
            "[0 0 2 2 5]\n"
          ]
        }
      ]
    },
    {
      "cell_type": "code",
      "source": [
        "#Raise array to the power 3 (three ways)\n",
        "a = np.arange(5, dtype=float)\n",
        "r1 = a ** 3\n",
        "r2 = a * a * a\n",
        "r3 = np.power(a, 3)\n",
        "print(r1)\n",
        "print(r2)\n",
        "print(r3)"
      ],
      "metadata": {
        "colab": {
          "base_uri": "https://localhost:8080/"
        },
        "id": "mijKWcO7XvPV",
        "outputId": "2f195b95-0f7b-4714-975f-4f2aa24ef7cc"
      },
      "execution_count": null,
      "outputs": [
        {
          "output_type": "stream",
          "name": "stdout",
          "text": [
            "[ 0.  1.  8. 27. 64.]\n",
            "[ 0.  1.  8. 27. 64.]\n",
            "[ 0.  1.  8. 27. 64.]\n"
          ]
        }
      ]
    },
    {
      "cell_type": "code",
      "source": [
        "#inner, outer, sum, multiplication using einsum\n",
        "a = np.array([1,2,3])\n",
        "b = np.array([4,5,6])\n",
        "inner = np.einsum('i,i->', a, b)\n",
        "outer = np.einsum('i,j->ij', a, b)\n",
        "total_sum = np.einsum('ij->', A)\n",
        "elemwise = np.einsum('ij,ij->ij', A, B)\n",
        "print(inner)\n",
        "print(outer)\n",
        "print(total_sum)\n",
        "print(elemwise)"
      ],
      "metadata": {
        "colab": {
          "base_uri": "https://localhost:8080/"
        },
        "id": "F_fWGMJvYfcQ",
        "outputId": "01ee7c67-7d8a-41f3-c4a8-cdb5b71d8cd1"
      },
      "execution_count": null,
      "outputs": [
        {
          "output_type": "stream",
          "name": "stdout",
          "text": [
            "32\n",
            "[[ 4  5  6]\n",
            " [ 8 10 12]\n",
            " [12 15 18]]\n",
            "5.641423046912164\n",
            "[[0.64073488 0.49837262 0.05201349]\n",
            " [0.21198538 0.2066243  0.41213408]\n",
            " [0.21170932 0.42051445 0.25538069]]\n"
          ]
        }
      ]
    },
    {
      "cell_type": "code",
      "source": [
        "#Vertically and horizontally stack two arrays\n",
        "import numpy as np\n",
        "a = np.array([[1, 2], [3, 4]])\n",
        "b = np.array([[5, 6]])\n",
        "v_stack=np.vstack((a, b))\n",
        "h_stack=np.hstack((a, b.T))\n",
        "print(v_stack)\n",
        "print(h_stack)"
      ],
      "metadata": {
        "id": "jh1Z2MEcZD5r",
        "colab": {
          "base_uri": "https://localhost:8080/"
        },
        "outputId": "0fc72f67-fbf9-4cce-855d-37348ea4f155"
      },
      "execution_count": null,
      "outputs": [
        {
          "output_type": "stream",
          "name": "stdout",
          "text": [
            "[[1 2]\n",
            " [3 4]\n",
            " [5 6]]\n",
            "[[1 2 5]\n",
            " [3 4 6]]\n"
          ]
        }
      ]
    },
    {
      "cell_type": "code",
      "source": [
        "#Apply a custom function to each element\n",
        "fun=np.array([1,2,3,4,5])\n",
        "sqr_fun=np.square(fun)\n",
        "print(sqr_fun)"
      ],
      "metadata": {
        "colab": {
          "base_uri": "https://localhost:8080/"
        },
        "id": "CRrYw1WMAY7j",
        "outputId": "c7511a5f-c4be-4c2b-fbca-e7ceacbdd4b4"
      },
      "execution_count": null,
      "outputs": [
        {
          "output_type": "stream",
          "name": "stdout",
          "text": [
            "[ 1  4  9 16 25]\n"
          ]
        }
      ]
    },
    {
      "cell_type": "code",
      "source": [
        "#Remove duplicate rows in a 2D array\n",
        "arr1 = np.array([[1,2], [3,4], [1,2]])\n",
        "uniq_row=np.unique(arr1, axis=0)\n",
        "print(uniq_row)"
      ],
      "metadata": {
        "colab": {
          "base_uri": "https://localhost:8080/"
        },
        "id": "4-X2QxJnBaKy",
        "outputId": "49288a4d-4c19-4ae3-f318-75a446731fc0"
      },
      "execution_count": null,
      "outputs": [
        {
          "output_type": "stream",
          "name": "stdout",
          "text": [
            "[[1 2]\n",
            " [3 4]]\n"
          ]
        }
      ]
    },
    {
      "cell_type": "code",
      "source": [
        "#Correlation coefficient between two vectors\n",
        "x = np.array([1, 2, 3])\n",
        "y = np.array([4, 5, 6])\n",
        "corr = np.corrcoef(x, y)\n",
        "print(corr)\n"
      ],
      "metadata": {
        "colab": {
          "base_uri": "https://localhost:8080/"
        },
        "id": "dOTl0rgKCPOO",
        "outputId": "59da45de-829d-41e4-dabf-6f005165fc94"
      },
      "execution_count": null,
      "outputs": [
        {
          "output_type": "stream",
          "name": "stdout",
          "text": [
            "[[1. 1.]\n",
            " [1. 1.]]\n"
          ]
        }
      ]
    },
    {
      "cell_type": "code",
      "source": [
        "#Perform one-hot encoding\n",
        "a = np.array([0, 1, 2])\n",
        "one_hot = np.eye(a.max()+1)[a]\n",
        "print(one_hot)\n"
      ],
      "metadata": {
        "colab": {
          "base_uri": "https://localhost:8080/"
        },
        "id": "j9v-jRIgCxWL",
        "outputId": "56cd85ec-2f82-4784-82a0-8f6832bd3cc9"
      },
      "execution_count": null,
      "outputs": [
        {
          "output_type": "stream",
          "name": "stdout",
          "text": [
            "[[1. 0. 0.]\n",
            " [0. 1. 0.]\n",
            " [0. 0. 1.]]\n"
          ]
        }
      ]
    },
    {
      "cell_type": "code",
      "source": [
        "#Find shape and number of elements\n",
        "np_arr = np.array([[1,2,3],[4,5,6]])\n",
        "print(np_arr.shape)\n",
        "print(np_arr.size)\n"
      ],
      "metadata": {
        "colab": {
          "base_uri": "https://localhost:8080/"
        },
        "id": "60AzP-tgDEYy",
        "outputId": "9f5ae54f-6e1f-45e9-d780-717e66900afa"
      },
      "execution_count": null,
      "outputs": [
        {
          "output_type": "stream",
          "name": "stdout",
          "text": [
            "(2, 3)\n",
            "6\n"
          ]
        }
      ]
    },
    {
      "cell_type": "code",
      "source": [
        "#Reshape array without changing data\n",
        "a_arr= np.arange(6)\n",
        "reshaped = a_arr.reshape(2, 3)\n",
        "print(reshaped)\n"
      ],
      "metadata": {
        "colab": {
          "base_uri": "https://localhost:8080/"
        },
        "id": "B0FEC7tyDSeJ",
        "outputId": "6be81a42-533f-4708-b746-ba08b8876847"
      },
      "execution_count": null,
      "outputs": [
        {
          "output_type": "stream",
          "name": "stdout",
          "text": [
            "[[0 1 2]\n",
            " [3 4 5]]\n"
          ]
        }
      ]
    },
    {
      "cell_type": "code",
      "source": [
        "#Flatten a multi-dimensional array\n",
        "abc = np.array([[1,2],[3,4]])\n",
        "print(abc.flatten())\n",
        "print(abc.ravel())\n"
      ],
      "metadata": {
        "colab": {
          "base_uri": "https://localhost:8080/"
        },
        "id": "mib7h0O4D1k2",
        "outputId": "033dd5b5-6a49-4aed-bd8b-4521772b8eac"
      },
      "execution_count": null,
      "outputs": [
        {
          "output_type": "stream",
          "name": "stdout",
          "text": [
            "[1 2 3 4]\n",
            "[1 2 3 4]\n"
          ]
        }
      ]
    },
    {
      "cell_type": "code",
      "source": [
        "#Get cumulative sum along an axis\n",
        "val= np.array([[1,2,3],\n",
        "              [4,5,6]])\n",
        "print(np.cumsum(val, axis=1))\n",
        "\n"
      ],
      "metadata": {
        "colab": {
          "base_uri": "https://localhost:8080/"
        },
        "id": "tOCShHrYEBw5",
        "outputId": "174a8f67-76ea-4471-db25-4689afc0951d"
      },
      "execution_count": null,
      "outputs": [
        {
          "output_type": "stream",
          "name": "stdout",
          "text": [
            "[[ 1  3  6]\n",
            " [ 4  9 15]]\n"
          ]
        }
      ]
    },
    {
      "cell_type": "code",
      "source": [
        "#Element-wise maximum/minimum of two arrays\n",
        "arr1 = np.array([11, 42, 29])\n",
        "arr2 = np.array([31, 12, 53])\n",
        "print(np.maximum(arr1, arr2))\n",
        "print(np.minimum(arr1, arr2))\n"
      ],
      "metadata": {
        "colab": {
          "base_uri": "https://localhost:8080/"
        },
        "id": "3KjgbQx1EMGs",
        "outputId": "7c89c589-6e0d-4d3f-ce11-57b30ebbf3ea"
      },
      "execution_count": null,
      "outputs": [
        {
          "output_type": "stream",
          "name": "stdout",
          "text": [
            "[31 42 53]\n",
            "[11 12 29]\n"
          ]
        }
      ]
    },
    {
      "cell_type": "code",
      "source": [
        "#Broadcasting arrays with different shapes\n",
        "my_arr1 = np.array([[1],[2],[3]])\n",
        "my_arr2 = np.array([10,20,30])\n",
        "print(my_arr1+my_arr2)"
      ],
      "metadata": {
        "colab": {
          "base_uri": "https://localhost:8080/"
        },
        "id": "8ALcwf55EnkD",
        "outputId": "05072339-4215-43c0-a179-7f56359e83cf"
      },
      "execution_count": null,
      "outputs": [
        {
          "output_type": "stream",
          "name": "stdout",
          "text": [
            "[[11 21 31]\n",
            " [12 22 32]\n",
            " [13 23 33]]\n"
          ]
        }
      ]
    },
    {
      "cell_type": "code",
      "source": [
        "  #Transpose a matrix and perform dot products\n",
        "a = np.array([[1,2],[3,4]])\n",
        "print(a.T)\n",
        "res=np.dot(a, a.T)\n",
        "print(res)"
      ],
      "metadata": {
        "colab": {
          "base_uri": "https://localhost:8080/"
        },
        "id": "hy_Kl1X0FFjM",
        "outputId": "30774511-9f34-410c-ec82-1d725f56f2c0"
      },
      "execution_count": null,
      "outputs": [
        {
          "output_type": "stream",
          "name": "stdout",
          "text": [
            "[[1 3]\n",
            " [2 4]]\n",
            "[[ 5 11]\n",
            " [11 25]]\n"
          ]
        }
      ]
    },
    {
      "cell_type": "code",
      "source": [
        "#Check for NaN or infinite values\n",
        "a = np.array([1, 0,np.nan,10,np.inf])\n",
        "print(np.isnan(a))\n",
        "print(np.isinf(a))\n"
      ],
      "metadata": {
        "colab": {
          "base_uri": "https://localhost:8080/"
        },
        "id": "CPGHOWfiFjJF",
        "outputId": "dd4a2bc0-7bd0-4f96-91df-3a83d8679a95"
      },
      "execution_count": null,
      "outputs": [
        {
          "output_type": "stream",
          "name": "stdout",
          "text": [
            "[False False  True False False]\n",
            "[False False False False  True]\n"
          ]
        }
      ]
    },
    {
      "cell_type": "code",
      "source": [
        "#Extract diagonal, upper, and lower triangles\n",
        "a = np.arange(9).reshape(3,3)\n",
        "print(np.diag(a))\n",
        "print(np.triu(a))\n",
        "print(np.tril(a))"
      ],
      "metadata": {
        "colab": {
          "base_uri": "https://localhost:8080/"
        },
        "id": "6YIHyQh8GClB",
        "outputId": "323bc349-0772-4d90-a1d3-34314b6ed82c"
      },
      "execution_count": null,
      "outputs": [
        {
          "output_type": "stream",
          "name": "stdout",
          "text": [
            "[0 4 8]\n",
            "[[0 1 2]\n",
            " [0 4 5]\n",
            " [0 0 8]]\n",
            "[[0 0 0]\n",
            " [3 4 0]\n",
            " [6 7 8]]\n"
          ]
        }
      ]
    }
  ]
}